{
 "cells": [
  {
   "cell_type": "markdown",
   "id": "empty-sport",
   "metadata": {},
   "source": [
    "# 1. Import the necessary libraries if you are starting a new notebook. Using the same data as the previous lab: we_fn_use_c_marketing_customer_value_analysis.csv\n",
    "\n"
   ]
  },
  {
   "cell_type": "code",
   "execution_count": 124,
   "id": "retained-tragedy",
   "metadata": {},
   "outputs": [],
   "source": [
    "import pandas as pd\n",
    "import seaborn as sns\n",
    "import matplotlib.pyplot as plt\n",
    "import numpy as np\n",
    "import re\n",
    "from sklearn.preprocessing import OneHotEncoder"
   ]
  },
  {
   "cell_type": "code",
   "execution_count": 2,
   "id": "boxed-ordering",
   "metadata": {},
   "outputs": [],
   "source": [
    "data = pd.read_csv('files_for_lab/we_fn_use_c_marketing_customer_value_analysis.csv')"
   ]
  },
  {
   "cell_type": "code",
   "execution_count": 4,
   "id": "appropriate-engineering",
   "metadata": {},
   "outputs": [
    {
     "data": {
      "text/plain": [
       "Index(['customer', 'state', 'customer_lifetime_value', 'response', 'coverage',\n",
       "       'education', 'effective_to_date', 'employmentstatus', 'gender',\n",
       "       'income', 'location_code', 'marital_status', 'monthly_premium_auto',\n",
       "       'months_since_last_claim', 'months_since_policy_inception',\n",
       "       'number_of_open_complaints', 'number_of_policies', 'policy_type',\n",
       "       'policy', 'renew_offer_type', 'sales_channel', 'total_claim_amount',\n",
       "       'vehicle_class', 'vehicle_size'],\n",
       "      dtype='object')"
      ]
     },
     "execution_count": 4,
     "metadata": {},
     "output_type": "execute_result"
    }
   ],
   "source": [
    "columns2 = []\n",
    "for col in data.columns:\n",
    "    columns2.append(re.sub(\" \",\"_\", col).lower())\n",
    "data.columns = columns2\n",
    "data.columns"
   ]
  },
  {
   "cell_type": "markdown",
   "id": "virtual-index",
   "metadata": {},
   "source": [
    "# 2. Find all of the categorical data. Save it in a categorical_df variable.\n",
    "\n"
   ]
  },
  {
   "cell_type": "code",
   "execution_count": 9,
   "id": "union-channels",
   "metadata": {},
   "outputs": [
    {
     "data": {
      "text/html": [
       "<div>\n",
       "<style scoped>\n",
       "    .dataframe tbody tr th:only-of-type {\n",
       "        vertical-align: middle;\n",
       "    }\n",
       "\n",
       "    .dataframe tbody tr th {\n",
       "        vertical-align: top;\n",
       "    }\n",
       "\n",
       "    .dataframe thead th {\n",
       "        text-align: right;\n",
       "    }\n",
       "</style>\n",
       "<table border=\"1\" class=\"dataframe\">\n",
       "  <thead>\n",
       "    <tr style=\"text-align: right;\">\n",
       "      <th></th>\n",
       "      <th>customer</th>\n",
       "      <th>state</th>\n",
       "      <th>response</th>\n",
       "      <th>coverage</th>\n",
       "      <th>education</th>\n",
       "      <th>effective_to_date</th>\n",
       "      <th>employmentstatus</th>\n",
       "      <th>gender</th>\n",
       "      <th>location_code</th>\n",
       "      <th>marital_status</th>\n",
       "      <th>policy_type</th>\n",
       "      <th>policy</th>\n",
       "      <th>renew_offer_type</th>\n",
       "      <th>sales_channel</th>\n",
       "      <th>vehicle_class</th>\n",
       "      <th>vehicle_size</th>\n",
       "    </tr>\n",
       "  </thead>\n",
       "  <tbody>\n",
       "    <tr>\n",
       "      <th>0</th>\n",
       "      <td>BU79786</td>\n",
       "      <td>Washington</td>\n",
       "      <td>No</td>\n",
       "      <td>Basic</td>\n",
       "      <td>Bachelor</td>\n",
       "      <td>2/24/11</td>\n",
       "      <td>Employed</td>\n",
       "      <td>F</td>\n",
       "      <td>Suburban</td>\n",
       "      <td>Married</td>\n",
       "      <td>Corporate Auto</td>\n",
       "      <td>Corporate L3</td>\n",
       "      <td>Offer1</td>\n",
       "      <td>Agent</td>\n",
       "      <td>Two-Door Car</td>\n",
       "      <td>Medsize</td>\n",
       "    </tr>\n",
       "    <tr>\n",
       "      <th>1</th>\n",
       "      <td>QZ44356</td>\n",
       "      <td>Arizona</td>\n",
       "      <td>No</td>\n",
       "      <td>Extended</td>\n",
       "      <td>Bachelor</td>\n",
       "      <td>1/31/11</td>\n",
       "      <td>Unemployed</td>\n",
       "      <td>F</td>\n",
       "      <td>Suburban</td>\n",
       "      <td>Single</td>\n",
       "      <td>Personal Auto</td>\n",
       "      <td>Personal L3</td>\n",
       "      <td>Offer3</td>\n",
       "      <td>Agent</td>\n",
       "      <td>Four-Door Car</td>\n",
       "      <td>Medsize</td>\n",
       "    </tr>\n",
       "    <tr>\n",
       "      <th>2</th>\n",
       "      <td>AI49188</td>\n",
       "      <td>Nevada</td>\n",
       "      <td>No</td>\n",
       "      <td>Premium</td>\n",
       "      <td>Bachelor</td>\n",
       "      <td>2/19/11</td>\n",
       "      <td>Employed</td>\n",
       "      <td>F</td>\n",
       "      <td>Suburban</td>\n",
       "      <td>Married</td>\n",
       "      <td>Personal Auto</td>\n",
       "      <td>Personal L3</td>\n",
       "      <td>Offer1</td>\n",
       "      <td>Agent</td>\n",
       "      <td>Two-Door Car</td>\n",
       "      <td>Medsize</td>\n",
       "    </tr>\n",
       "    <tr>\n",
       "      <th>3</th>\n",
       "      <td>WW63253</td>\n",
       "      <td>California</td>\n",
       "      <td>No</td>\n",
       "      <td>Basic</td>\n",
       "      <td>Bachelor</td>\n",
       "      <td>1/20/11</td>\n",
       "      <td>Unemployed</td>\n",
       "      <td>M</td>\n",
       "      <td>Suburban</td>\n",
       "      <td>Married</td>\n",
       "      <td>Corporate Auto</td>\n",
       "      <td>Corporate L2</td>\n",
       "      <td>Offer1</td>\n",
       "      <td>Call Center</td>\n",
       "      <td>SUV</td>\n",
       "      <td>Medsize</td>\n",
       "    </tr>\n",
       "    <tr>\n",
       "      <th>4</th>\n",
       "      <td>HB64268</td>\n",
       "      <td>Washington</td>\n",
       "      <td>No</td>\n",
       "      <td>Basic</td>\n",
       "      <td>Bachelor</td>\n",
       "      <td>2/3/11</td>\n",
       "      <td>Employed</td>\n",
       "      <td>M</td>\n",
       "      <td>Rural</td>\n",
       "      <td>Single</td>\n",
       "      <td>Personal Auto</td>\n",
       "      <td>Personal L1</td>\n",
       "      <td>Offer1</td>\n",
       "      <td>Agent</td>\n",
       "      <td>Four-Door Car</td>\n",
       "      <td>Medsize</td>\n",
       "    </tr>\n",
       "  </tbody>\n",
       "</table>\n",
       "</div>"
      ],
      "text/plain": [
       "  customer       state response  coverage education effective_to_date  \\\n",
       "0  BU79786  Washington       No     Basic  Bachelor           2/24/11   \n",
       "1  QZ44356     Arizona       No  Extended  Bachelor           1/31/11   \n",
       "2  AI49188      Nevada       No   Premium  Bachelor           2/19/11   \n",
       "3  WW63253  California       No     Basic  Bachelor           1/20/11   \n",
       "4  HB64268  Washington       No     Basic  Bachelor            2/3/11   \n",
       "\n",
       "  employmentstatus gender location_code marital_status     policy_type  \\\n",
       "0         Employed      F      Suburban        Married  Corporate Auto   \n",
       "1       Unemployed      F      Suburban         Single   Personal Auto   \n",
       "2         Employed      F      Suburban        Married   Personal Auto   \n",
       "3       Unemployed      M      Suburban        Married  Corporate Auto   \n",
       "4         Employed      M         Rural         Single   Personal Auto   \n",
       "\n",
       "         policy renew_offer_type sales_channel  vehicle_class vehicle_size  \n",
       "0  Corporate L3           Offer1         Agent   Two-Door Car      Medsize  \n",
       "1   Personal L3           Offer3         Agent  Four-Door Car      Medsize  \n",
       "2   Personal L3           Offer1         Agent   Two-Door Car      Medsize  \n",
       "3  Corporate L2           Offer1   Call Center            SUV      Medsize  \n",
       "4   Personal L1           Offer1         Agent  Four-Door Car      Medsize  "
      ]
     },
     "execution_count": 9,
     "metadata": {},
     "output_type": "execute_result"
    }
   ],
   "source": [
    "categorical_df = data.select_dtypes(object)\n",
    "categorical_df.head()"
   ]
  },
  {
   "cell_type": "code",
   "execution_count": 11,
   "id": "native-pursuit",
   "metadata": {},
   "outputs": [],
   "source": [
    "categorical_df = categorical_df.drop(columns = ['customer','effective_to_date'])"
   ]
  },
  {
   "cell_type": "markdown",
   "id": "editorial-protocol",
   "metadata": {},
   "source": [
    "# 3. Check for NaN values.\n",
    "\n"
   ]
  },
  {
   "cell_type": "code",
   "execution_count": 12,
   "id": "integral-reviewer",
   "metadata": {},
   "outputs": [
    {
     "data": {
      "text/plain": [
       "state               0\n",
       "response            0\n",
       "coverage            0\n",
       "education           0\n",
       "employmentstatus    0\n",
       "gender              0\n",
       "location_code       0\n",
       "marital_status      0\n",
       "policy_type         0\n",
       "policy              0\n",
       "renew_offer_type    0\n",
       "sales_channel       0\n",
       "vehicle_class       0\n",
       "vehicle_size        0\n",
       "dtype: int64"
      ]
     },
     "execution_count": 12,
     "metadata": {},
     "output_type": "execute_result"
    }
   ],
   "source": [
    "categorical_df.isna().sum()"
   ]
  },
  {
   "cell_type": "markdown",
   "id": "respected-present",
   "metadata": {},
   "source": [
    "# 4. Check all unique values of columns.\n",
    "\n",
    "\n",
    "\n",
    "\n"
   ]
  },
  {
   "cell_type": "code",
   "execution_count": 24,
   "id": "young-blake",
   "metadata": {},
   "outputs": [
    {
     "name": "stdout",
     "output_type": "stream",
     "text": [
      "state  :  5 ['Washington' 'Arizona' 'Nevada' 'California' 'Oregon']\n",
      "response  :  2 ['No' 'Yes']\n",
      "coverage  :  3 ['Basic' 'Extended' 'Premium']\n",
      "education  :  5 ['Bachelor' 'College' 'Master' 'High School or Below' 'Doctor']\n",
      "employmentstatus  :  5 ['Employed' 'Unemployed' 'Medical Leave' 'Disabled' 'Retired']\n",
      "gender  :  2 ['F' 'M']\n",
      "location_code  :  3 ['Suburban' 'Rural' 'Urban']\n",
      "marital_status  :  3 ['Married' 'Single' 'Divorced']\n",
      "policy_type  :  3 ['Corporate Auto' 'Personal Auto' 'Special Auto']\n",
      "policy  :  9 ['Corporate L3' 'Personal L3' 'Corporate L2' 'Personal L1' 'Special L2'\n",
      " 'Corporate L1' 'Personal L2' 'Special L1' 'Special L3']\n",
      "renew_offer_type  :  4 ['Offer1' 'Offer3' 'Offer2' 'Offer4']\n",
      "sales_channel  :  4 ['Agent' 'Call Center' 'Web' 'Branch']\n",
      "vehicle_class  :  6 ['Two-Door Car' 'Four-Door Car' 'SUV' 'Luxury SUV' 'Sports Car'\n",
      " 'Luxury Car']\n",
      "vehicle_size  :  3 ['Medsize' 'Small' 'Large']\n"
     ]
    }
   ],
   "source": [
    "for col in categorical_df.columns:\n",
    "    print(col,\" : \",categorical_df[col].nunique(),categorical_df[col].unique(), )"
   ]
  },
  {
   "cell_type": "markdown",
   "id": "stainless-syndicate",
   "metadata": {},
   "source": [
    "# 5. Check dtypes. Do they all make sense as categorical data?\n",
    "\n"
   ]
  },
  {
   "cell_type": "markdown",
   "id": "vulnerable-consideration",
   "metadata": {},
   "source": [
    "For the ones that have 2 categories this is easy to replace by a number: 1 and 0"
   ]
  },
  {
   "cell_type": "code",
   "execution_count": 90,
   "id": "valued-radar",
   "metadata": {},
   "outputs": [],
   "source": [
    "mapping = {'No':0,'Yes':1}\n",
    "categorical_df = categorical_df.replace({'response': mapping})\n",
    "mapping = {'M':0,'F':1}\n",
    "categorical_df = categorical_df.replace({'gender': mapping})"
   ]
  },
  {
   "cell_type": "markdown",
   "id": "thermal-pitch",
   "metadata": {},
   "source": [
    "# 6. Does any column contain alpha and numeric data? Decide how to clean it.\n"
   ]
  },
  {
   "cell_type": "markdown",
   "id": "excessive-priest",
   "metadata": {},
   "source": [
    "Column \"renew_offer_type\" has alfanumeric values, they can be replaced by a number:"
   ]
  },
  {
   "cell_type": "code",
   "execution_count": 91,
   "id": "double-solid",
   "metadata": {},
   "outputs": [],
   "source": [
    "mapping = {'Offer1':1,'Offer2':2,'Offer3':3,'Offer4':4}\n",
    "categorical_df = categorical_df.replace({'renew_offer_type': mapping})"
   ]
  },
  {
   "cell_type": "markdown",
   "id": "offensive-adolescent",
   "metadata": {},
   "source": [
    "Policy type can be separated from policy because we have repeated data"
   ]
  },
  {
   "cell_type": "code",
   "execution_count": 92,
   "id": "corrected-writing",
   "metadata": {},
   "outputs": [],
   "source": [
    "categorical_df['policy_type'] = categorical_df.policy_type.apply(lambda x: x.split(\" \")[0])\n",
    "categorical_df['policy'] = categorical_df.policy.apply(lambda x: x[-1])"
   ]
  },
  {
   "cell_type": "code",
   "execution_count": 93,
   "id": "weekly-occurrence",
   "metadata": {},
   "outputs": [
    {
     "name": "stdout",
     "output_type": "stream",
     "text": [
      "state  :  5 ['Washington' 'Arizona' 'Nevada' 'California' 'Oregon']\n",
      "response  :  2 [0 1]\n",
      "coverage  :  3 ['Basic' 'Extended' 'Premium']\n",
      "education  :  4 ['Bachelor' 'College' 'High Education' 'High School or Below']\n",
      "employmentstatus  :  3 ['Employed' 'Unemployed' 'other']\n",
      "gender  :  2 [1 0]\n",
      "location_code  :  3 ['Suburban' 'Rural' 'Urban']\n",
      "marital_status  :  3 ['Married' 'Single' 'Divorced']\n",
      "policy_type  :  3 ['Corporate' 'Personal' 'Special']\n",
      "policy  :  3 ['3' '2' '1']\n",
      "renew_offer_type  :  4 [1 3 2 4]\n",
      "sales_channel  :  4 ['Agent' 'Call Center' 'Web' 'Branch']\n",
      "vehicle_class  :  4 ['Two-Door Car' 'Four-Door Car' 'SUV' 'Luxury']\n",
      "vehicle_size  :  3 [1 0 2]\n"
     ]
    }
   ],
   "source": [
    "for col in categorical_df.columns:\n",
    "    print(col,\" : \",categorical_df[col].nunique(),categorical_df[col].unique(), )"
   ]
  },
  {
   "cell_type": "markdown",
   "id": "existing-authority",
   "metadata": {},
   "source": [
    "# 7. Would you choose to do anything else to clean or wrangle the categorical data? Comment your decisions.\n"
   ]
  },
  {
   "cell_type": "markdown",
   "id": "level-ancient",
   "metadata": {},
   "source": [
    "I could give ordinal values for some of the columns"
   ]
  },
  {
   "cell_type": "code",
   "execution_count": 98,
   "id": "arabic-hopkins",
   "metadata": {},
   "outputs": [],
   "source": [
    "mapping = {'Basic':0,'Extended':1,'Premium':2}\n",
    "categorical_df = categorical_df.replace({'coverage': mapping})\n",
    "mapping = {'Small':0,'Medsize':1,'Large':2}\n",
    "categorical_df = categorical_df.replace({'vehicle_size': mapping})"
   ]
  },
  {
   "cell_type": "code",
   "execution_count": 113,
   "id": "coral-notion",
   "metadata": {},
   "outputs": [
    {
     "data": {
      "text/html": [
       "<div>\n",
       "<style scoped>\n",
       "    .dataframe tbody tr th:only-of-type {\n",
       "        vertical-align: middle;\n",
       "    }\n",
       "\n",
       "    .dataframe tbody tr th {\n",
       "        vertical-align: top;\n",
       "    }\n",
       "\n",
       "    .dataframe thead th {\n",
       "        text-align: right;\n",
       "    }\n",
       "</style>\n",
       "<table border=\"1\" class=\"dataframe\">\n",
       "  <thead>\n",
       "    <tr style=\"text-align: right;\">\n",
       "      <th></th>\n",
       "      <th>state</th>\n",
       "      <th>education</th>\n",
       "      <th>employmentstatus</th>\n",
       "      <th>location_code</th>\n",
       "      <th>policy_type</th>\n",
       "      <th>sales_channel</th>\n",
       "      <th>vehicle_class</th>\n",
       "      <th>marital_status</th>\n",
       "    </tr>\n",
       "  </thead>\n",
       "  <tbody>\n",
       "    <tr>\n",
       "      <th>0</th>\n",
       "      <td>Washington</td>\n",
       "      <td>Bachelor</td>\n",
       "      <td>Employed</td>\n",
       "      <td>Suburban</td>\n",
       "      <td>Corporate</td>\n",
       "      <td>Agent</td>\n",
       "      <td>Two-Door Car</td>\n",
       "      <td>Married</td>\n",
       "    </tr>\n",
       "    <tr>\n",
       "      <th>1</th>\n",
       "      <td>Arizona</td>\n",
       "      <td>Bachelor</td>\n",
       "      <td>Unemployed</td>\n",
       "      <td>Suburban</td>\n",
       "      <td>Personal</td>\n",
       "      <td>Agent</td>\n",
       "      <td>Four-Door Car</td>\n",
       "      <td>Single</td>\n",
       "    </tr>\n",
       "    <tr>\n",
       "      <th>2</th>\n",
       "      <td>Nevada</td>\n",
       "      <td>Bachelor</td>\n",
       "      <td>Employed</td>\n",
       "      <td>Suburban</td>\n",
       "      <td>Personal</td>\n",
       "      <td>Agent</td>\n",
       "      <td>Two-Door Car</td>\n",
       "      <td>Married</td>\n",
       "    </tr>\n",
       "    <tr>\n",
       "      <th>3</th>\n",
       "      <td>California</td>\n",
       "      <td>Bachelor</td>\n",
       "      <td>Unemployed</td>\n",
       "      <td>Suburban</td>\n",
       "      <td>Corporate</td>\n",
       "      <td>Call Center</td>\n",
       "      <td>SUV</td>\n",
       "      <td>Married</td>\n",
       "    </tr>\n",
       "    <tr>\n",
       "      <th>4</th>\n",
       "      <td>Washington</td>\n",
       "      <td>Bachelor</td>\n",
       "      <td>Employed</td>\n",
       "      <td>Rural</td>\n",
       "      <td>Personal</td>\n",
       "      <td>Agent</td>\n",
       "      <td>Four-Door Car</td>\n",
       "      <td>Single</td>\n",
       "    </tr>\n",
       "  </tbody>\n",
       "</table>\n",
       "</div>"
      ],
      "text/plain": [
       "        state education employmentstatus location_code policy_type  \\\n",
       "0  Washington  Bachelor         Employed      Suburban   Corporate   \n",
       "1     Arizona  Bachelor       Unemployed      Suburban    Personal   \n",
       "2      Nevada  Bachelor         Employed      Suburban    Personal   \n",
       "3  California  Bachelor       Unemployed      Suburban   Corporate   \n",
       "4  Washington  Bachelor         Employed         Rural    Personal   \n",
       "\n",
       "  sales_channel  vehicle_class marital_status  \n",
       "0         Agent   Two-Door Car        Married  \n",
       "1         Agent  Four-Door Car         Single  \n",
       "2         Agent   Two-Door Car        Married  \n",
       "3   Call Center            SUV        Married  \n",
       "4         Agent  Four-Door Car         Single  "
      ]
     },
     "execution_count": 113,
     "metadata": {},
     "output_type": "execute_result"
    }
   ],
   "source": [
    "# Split numerical and rest\n",
    "categorical_df_num = categorical_df.drop(columns =['state','education','employmentstatus','location_code','policy_type','sales_channel','vehicle_class','marital_status'])\n",
    "categorical_df_rest = categorical_df[['state','education','employmentstatus','location_code','policy_type','sales_channel','vehicle_class','marital_status']]\n",
    "categorical_df_rest.head()"
   ]
  },
  {
   "cell_type": "markdown",
   "id": "historical-wells",
   "metadata": {},
   "source": [
    "# 8. Compare policy_type and policy. What information is contained in these columns. Can you identify what is important?\n"
   ]
  },
  {
   "cell_type": "markdown",
   "id": "eastern-insulin",
   "metadata": {},
   "source": [
    "I did it in question 6"
   ]
  },
  {
   "cell_type": "markdown",
   "id": "signal-pricing",
   "metadata": {},
   "source": [
    "# 9. Check number of unique values in each column, can they be combined in any way to ease encoding? Comment your thoughts and make those changes."
   ]
  },
  {
   "cell_type": "code",
   "execution_count": 115,
   "id": "concerned-crime",
   "metadata": {
    "scrolled": true
   },
   "outputs": [
    {
     "name": "stdout",
     "output_type": "stream",
     "text": [
      "state : \n",
      " California    3150\n",
      "Oregon        2601\n",
      "Arizona       1703\n",
      "Nevada         882\n",
      "Washington     798\n",
      "Name: state, dtype: int64 \n",
      "\n",
      "education : \n",
      " Bachelor                2748\n",
      "College                 2681\n",
      "High School or Below    2622\n",
      "High Education          1083\n",
      "Name: education, dtype: int64 \n",
      "\n",
      "employmentstatus : \n",
      " Employed      5698\n",
      "Unemployed    2317\n",
      "other         1119\n",
      "Name: employmentstatus, dtype: int64 \n",
      "\n",
      "location_code : \n",
      " Suburban    5779\n",
      "Rural       1773\n",
      "Urban       1582\n",
      "Name: location_code, dtype: int64 \n",
      "\n",
      "policy_type : \n",
      " Personal     6788\n",
      "Corporate    1968\n",
      "Special       378\n",
      "Name: policy_type, dtype: int64 \n",
      "\n",
      "sales_channel : \n",
      " Agent          3477\n",
      "Branch         2567\n",
      "Call Center    1765\n",
      "Web            1325\n",
      "Name: sales_channel, dtype: int64 \n",
      "\n",
      "vehicle_class : \n",
      " Four-Door Car    4621\n",
      "Two-Door Car     1886\n",
      "SUV              1796\n",
      "Luxury            831\n",
      "Name: vehicle_class, dtype: int64 \n",
      "\n",
      "marital_status : \n",
      " Married     5298\n",
      "Single      2467\n",
      "Divorced    1369\n",
      "Name: marital_status, dtype: int64 \n",
      "\n"
     ]
    }
   ],
   "source": [
    "for col in categorical_df_rest.columns:\n",
    "    print(col,\": \\n\",categorical_df_rest[col].value_counts(),\"\\n\" )"
   ]
  },
  {
   "cell_type": "markdown",
   "id": "raised-milwaukee",
   "metadata": {},
   "source": [
    "Maybe we can group vehicle class (Sports, Luxury SUV, Luxury car) into Luxury, also in education we can group (Doctor and Master) into high education, also employmentstatus ('Medical Leave' 'Disabled' 'Retired') into Other "
   ]
  },
  {
   "cell_type": "code",
   "execution_count": 126,
   "id": "encouraging-oxide",
   "metadata": {},
   "outputs": [],
   "source": [
    "def Luxury_car(x):\n",
    "    if ('Luxury' in x) or ('Sports' in x):\n",
    "        x = \"Luxury\"\n",
    "    return x\n",
    "\n",
    "def High_education(x):\n",
    "    if ('Master' in x) or ('Doctor' in x):\n",
    "        x = \"High Education\"\n",
    "    return x\n",
    "    \n",
    "def Employment(x):\n",
    "    if ('Medical' in x) or ('Disabled' in x) or ('Retired' in x):\n",
    "        x = \"other\"\n",
    "    return x\n",
    "\n",
    "categorical_df_rest2 = categorical_df_rest.copy()\n",
    "categorical_df_rest2['vehicle_class'] = categorical_df_rest2['vehicle_class'].apply(Luxury_car)\n",
    "categorical_df_rest2['education'] = categorical_df_rest2['education'].apply(High_education)\n",
    "categorical_df_rest2['employmentstatus'] = categorical_df_rest2['employmentstatus'].apply(Employment)"
   ]
  },
  {
   "cell_type": "code",
   "execution_count": 127,
   "id": "daily-robert",
   "metadata": {},
   "outputs": [
    {
     "name": "stdout",
     "output_type": "stream",
     "text": [
      "state  :  5 ['Washington' 'Arizona' 'Nevada' 'California' 'Oregon']\n",
      "education  :  4 ['Bachelor' 'College' 'High Education' 'High School or Below']\n",
      "employmentstatus  :  3 ['Employed' 'Unemployed' 'other']\n",
      "location_code  :  3 ['Suburban' 'Rural' 'Urban']\n",
      "policy_type  :  3 ['Corporate' 'Personal' 'Special']\n",
      "sales_channel  :  4 ['Agent' 'Call Center' 'Web' 'Branch']\n",
      "vehicle_class  :  4 ['Two-Door Car' 'Four-Door Car' 'SUV' 'Luxury']\n",
      "marital_status  :  3 ['Married' 'Single' 'Divorced']\n"
     ]
    }
   ],
   "source": [
    "for col in categorical_df_rest2.columns:\n",
    "    print(col,\" : \",categorical_df_rest2[col].nunique(),categorical_df_rest2[col].unique(), )"
   ]
  },
  {
   "cell_type": "markdown",
   "id": "efficient-parameter",
   "metadata": {},
   "source": [
    "We will apply OneHotEncoder on the rest:"
   ]
  },
  {
   "cell_type": "code",
   "execution_count": 138,
   "id": "organic-isolation",
   "metadata": {},
   "outputs": [],
   "source": [
    "enc = OneHotEncoder(handle_unknown='ignore')\n",
    "enc.fit(categorical_df_rest2)\n",
    "onehotlabels = enc.transform(categorical_df_rest2).toarray()\n",
    "categorical_df_enc = pd.DataFrame(onehotlabels,columns = np.concatenate(enc.categories_))"
   ]
  },
  {
   "cell_type": "code",
   "execution_count": 147,
   "id": "voluntary-complaint",
   "metadata": {},
   "outputs": [
    {
     "data": {
      "text/html": [
       "<div>\n",
       "<style scoped>\n",
       "    .dataframe tbody tr th:only-of-type {\n",
       "        vertical-align: middle;\n",
       "    }\n",
       "\n",
       "    .dataframe tbody tr th {\n",
       "        vertical-align: top;\n",
       "    }\n",
       "\n",
       "    .dataframe thead th {\n",
       "        text-align: right;\n",
       "    }\n",
       "</style>\n",
       "<table border=\"1\" class=\"dataframe\">\n",
       "  <thead>\n",
       "    <tr style=\"text-align: right;\">\n",
       "      <th></th>\n",
       "      <th>response</th>\n",
       "      <th>coverage</th>\n",
       "      <th>gender</th>\n",
       "      <th>policy</th>\n",
       "      <th>renew_offer_type</th>\n",
       "      <th>vehicle_size</th>\n",
       "      <th>Arizona</th>\n",
       "      <th>California</th>\n",
       "      <th>Nevada</th>\n",
       "      <th>Oregon</th>\n",
       "      <th>...</th>\n",
       "      <th>Branch</th>\n",
       "      <th>Call Center</th>\n",
       "      <th>Web</th>\n",
       "      <th>Four-Door Car</th>\n",
       "      <th>Luxury</th>\n",
       "      <th>SUV</th>\n",
       "      <th>Two-Door Car</th>\n",
       "      <th>Divorced</th>\n",
       "      <th>Married</th>\n",
       "      <th>Single</th>\n",
       "    </tr>\n",
       "  </thead>\n",
       "  <tbody>\n",
       "    <tr>\n",
       "      <th>0</th>\n",
       "      <td>0</td>\n",
       "      <td>0</td>\n",
       "      <td>1</td>\n",
       "      <td>3</td>\n",
       "      <td>1</td>\n",
       "      <td>1</td>\n",
       "      <td>0.0</td>\n",
       "      <td>0.0</td>\n",
       "      <td>0.0</td>\n",
       "      <td>0.0</td>\n",
       "      <td>...</td>\n",
       "      <td>0.0</td>\n",
       "      <td>0.0</td>\n",
       "      <td>0.0</td>\n",
       "      <td>0.0</td>\n",
       "      <td>0.0</td>\n",
       "      <td>0.0</td>\n",
       "      <td>1.0</td>\n",
       "      <td>0.0</td>\n",
       "      <td>1.0</td>\n",
       "      <td>0.0</td>\n",
       "    </tr>\n",
       "    <tr>\n",
       "      <th>1</th>\n",
       "      <td>0</td>\n",
       "      <td>1</td>\n",
       "      <td>1</td>\n",
       "      <td>3</td>\n",
       "      <td>3</td>\n",
       "      <td>1</td>\n",
       "      <td>1.0</td>\n",
       "      <td>0.0</td>\n",
       "      <td>0.0</td>\n",
       "      <td>0.0</td>\n",
       "      <td>...</td>\n",
       "      <td>0.0</td>\n",
       "      <td>0.0</td>\n",
       "      <td>0.0</td>\n",
       "      <td>1.0</td>\n",
       "      <td>0.0</td>\n",
       "      <td>0.0</td>\n",
       "      <td>0.0</td>\n",
       "      <td>0.0</td>\n",
       "      <td>0.0</td>\n",
       "      <td>1.0</td>\n",
       "    </tr>\n",
       "    <tr>\n",
       "      <th>2</th>\n",
       "      <td>0</td>\n",
       "      <td>2</td>\n",
       "      <td>1</td>\n",
       "      <td>3</td>\n",
       "      <td>1</td>\n",
       "      <td>1</td>\n",
       "      <td>0.0</td>\n",
       "      <td>0.0</td>\n",
       "      <td>1.0</td>\n",
       "      <td>0.0</td>\n",
       "      <td>...</td>\n",
       "      <td>0.0</td>\n",
       "      <td>0.0</td>\n",
       "      <td>0.0</td>\n",
       "      <td>0.0</td>\n",
       "      <td>0.0</td>\n",
       "      <td>0.0</td>\n",
       "      <td>1.0</td>\n",
       "      <td>0.0</td>\n",
       "      <td>1.0</td>\n",
       "      <td>0.0</td>\n",
       "    </tr>\n",
       "    <tr>\n",
       "      <th>3</th>\n",
       "      <td>0</td>\n",
       "      <td>0</td>\n",
       "      <td>0</td>\n",
       "      <td>2</td>\n",
       "      <td>1</td>\n",
       "      <td>1</td>\n",
       "      <td>0.0</td>\n",
       "      <td>1.0</td>\n",
       "      <td>0.0</td>\n",
       "      <td>0.0</td>\n",
       "      <td>...</td>\n",
       "      <td>0.0</td>\n",
       "      <td>1.0</td>\n",
       "      <td>0.0</td>\n",
       "      <td>0.0</td>\n",
       "      <td>0.0</td>\n",
       "      <td>1.0</td>\n",
       "      <td>0.0</td>\n",
       "      <td>0.0</td>\n",
       "      <td>1.0</td>\n",
       "      <td>0.0</td>\n",
       "    </tr>\n",
       "    <tr>\n",
       "      <th>4</th>\n",
       "      <td>0</td>\n",
       "      <td>0</td>\n",
       "      <td>0</td>\n",
       "      <td>1</td>\n",
       "      <td>1</td>\n",
       "      <td>1</td>\n",
       "      <td>0.0</td>\n",
       "      <td>0.0</td>\n",
       "      <td>0.0</td>\n",
       "      <td>0.0</td>\n",
       "      <td>...</td>\n",
       "      <td>0.0</td>\n",
       "      <td>0.0</td>\n",
       "      <td>0.0</td>\n",
       "      <td>1.0</td>\n",
       "      <td>0.0</td>\n",
       "      <td>0.0</td>\n",
       "      <td>0.0</td>\n",
       "      <td>0.0</td>\n",
       "      <td>0.0</td>\n",
       "      <td>1.0</td>\n",
       "    </tr>\n",
       "  </tbody>\n",
       "</table>\n",
       "<p>5 rows × 35 columns</p>\n",
       "</div>"
      ],
      "text/plain": [
       "   response  coverage  gender policy  renew_offer_type  vehicle_size  Arizona  \\\n",
       "0         0         0       1      3                 1             1      0.0   \n",
       "1         0         1       1      3                 3             1      1.0   \n",
       "2         0         2       1      3                 1             1      0.0   \n",
       "3         0         0       0      2                 1             1      0.0   \n",
       "4         0         0       0      1                 1             1      0.0   \n",
       "\n",
       "   California  Nevada  Oregon  ...  Branch  Call Center  Web  Four-Door Car  \\\n",
       "0         0.0     0.0     0.0  ...     0.0          0.0  0.0            0.0   \n",
       "1         0.0     0.0     0.0  ...     0.0          0.0  0.0            1.0   \n",
       "2         0.0     1.0     0.0  ...     0.0          0.0  0.0            0.0   \n",
       "3         1.0     0.0     0.0  ...     0.0          1.0  0.0            0.0   \n",
       "4         0.0     0.0     0.0  ...     0.0          0.0  0.0            1.0   \n",
       "\n",
       "   Luxury  SUV  Two-Door Car  Divorced  Married  Single  \n",
       "0     0.0  0.0           1.0       0.0      1.0     0.0  \n",
       "1     0.0  0.0           0.0       0.0      0.0     1.0  \n",
       "2     0.0  0.0           1.0       0.0      1.0     0.0  \n",
       "3     0.0  1.0           0.0       0.0      1.0     0.0  \n",
       "4     0.0  0.0           0.0       0.0      0.0     1.0  \n",
       "\n",
       "[5 rows x 35 columns]"
      ]
     },
     "execution_count": 147,
     "metadata": {},
     "output_type": "execute_result"
    }
   ],
   "source": [
    "categorical_total = pd.concat([categorical_df_num,categorical_df_enc], axis = 1)\n",
    "categorical_total.head()"
   ]
  }
 ],
 "metadata": {
  "kernelspec": {
   "display_name": "Python 3 (ipykernel)",
   "language": "python",
   "name": "python3"
  },
  "language_info": {
   "codemirror_mode": {
    "name": "ipython",
    "version": 3
   },
   "file_extension": ".py",
   "mimetype": "text/x-python",
   "name": "python",
   "nbconvert_exporter": "python",
   "pygments_lexer": "ipython3",
   "version": "3.9.5"
  }
 },
 "nbformat": 4,
 "nbformat_minor": 5
}
